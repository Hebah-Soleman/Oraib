{
 "cells": [
  {
   "cell_type": "markdown",
   "metadata": {},
   "source": [
    "# Training MEC model"
   ]
  },
  {
   "cell_type": "code",
   "execution_count": null,
   "metadata": {},
   "outputs": [],
   "source": [
    "from MEC import TokenClassificationTrainer"
   ]
  },
  {
   "cell_type": "code",
   "execution_count": null,
   "metadata": {},
   "outputs": [],
   "source": [
    "classifier = TokenClassificationTrainer(\n",
    "    model_id=\"sdaia/allam-1-13b-instruct\",\n",
    "    project_id=\"c4cff99c-37f6-48e7-9380-9d5c63fa26ef\",\n",
    "    api_url=\"https://eu-de.ml.cloud.ibm.com\",\n",
    "    api_key=\"IbWUe-Nj6bMAtysT-ZBdUKAmXmr5pN4LtgNUDZhaA9LS\",\n",
    "    tokenizer_id=\"aubmindlab/bert-base-arabertv02\",\n",
    "    dataset_path=\"/content/drive/MyDrive/Oraib/data/data.txt\"\n",
    ")\n",
    "classifier.run()"
   ]
  }
 ],
 "metadata": {
  "language_info": {
   "name": "python"
  }
 },
 "nbformat": 4,
 "nbformat_minor": 2
}
